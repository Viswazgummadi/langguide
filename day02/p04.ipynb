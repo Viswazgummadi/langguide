{
 "cells": [
  {
   "cell_type": "code",
   "execution_count": 1,
   "id": "3730dea4",
   "metadata": {},
   "outputs": [
    {
     "data": {
      "text/plain": [
       "True"
      ]
     },
     "execution_count": 1,
     "metadata": {},
     "output_type": "execute_result"
    }
   ],
   "source": [
    "from langchain.chains import ConversationChain\n",
    "from langchain.memory import ConversationBufferMemory\n",
    "from langchain_google_genai import ChatGoogleGenerativeAI\n",
    "from dotenv import load_dotenv\n",
    "\n",
    "load_dotenv()\n"
   ]
  },
  {
   "cell_type": "code",
   "execution_count": 2,
   "id": "8b22b6de",
   "metadata": {},
   "outputs": [
    {
     "name": "stderr",
     "output_type": "stream",
     "text": [
      "/tmp/ipykernel_766118/2769249767.py:4: LangChainDeprecationWarning: Please see the migration guide at: https://python.langchain.com/docs/versions/migrating_memory/\n",
      "  memory = ConversationBufferMemory()\n",
      "/tmp/ipykernel_766118/2769249767.py:7: LangChainDeprecationWarning: The class `ConversationChain` was deprecated in LangChain 0.2.7 and will be removed in 1.0. Use :meth:`~RunnableWithMessageHistory: https://python.langchain.com/v0.2/api_reference/core/runnables/langchain_core.runnables.history.RunnableWithMessageHistory.html` instead.\n",
      "  chatbot = ConversationChain(\n"
     ]
    }
   ],
   "source": [
    "\n",
    "llm = ChatGoogleGenerativeAI(model=\"gemini-1.5-flash-latest\", temperature=0.7)\n",
    "\n",
    "# Memory stores the past conversation\n",
    "memory = ConversationBufferMemory()\n",
    "\n",
    "# Chain: Connects memory, LLM, and basic prompting\n",
    "chatbot = ConversationChain(\n",
    "    llm=llm,\n",
    "    memory=memory,\n",
    "    verbose=True  # Shows internal reasoning\n",
    ")\n"
   ]
  },
  {
   "cell_type": "code",
   "execution_count": 3,
   "id": "6e6ade8b",
   "metadata": {},
   "outputs": [
    {
     "name": "stderr",
     "output_type": "stream",
     "text": [
      "/tmp/ipykernel_766118/482481758.py:6: LangChainDeprecationWarning: The method `Chain.run` was deprecated in langchain 0.1.0 and will be removed in 1.0. Use :meth:`~invoke` instead.\n",
      "  response = chatbot.run(user_input)\n"
     ]
    },
    {
     "name": "stdout",
     "output_type": "stream",
     "text": [
      "\n",
      "\n",
      "\u001b[1m> Entering new ConversationChain chain...\u001b[0m\n",
      "Prompt after formatting:\n",
      "\u001b[32;1m\u001b[1;3mThe following is a friendly conversation between a human and an AI. The AI is talkative and provides lots of specific details from its context. If the AI does not know the answer to a question, it truthfully says it does not know.\n",
      "\n",
      "Current conversation:\n",
      "\n",
      "Human: hi myself viswaz\n",
      "AI:\u001b[0m\n",
      "\n",
      "\u001b[1m> Finished chain.\u001b[0m\n",
      "Bot: Hi Viswaz!  It's nice to meet you. How can I help you today?  Is there anything specific you'd like to talk about, or are you just looking for a friendly chat? I'm happy to discuss anything from current events and the latest scientific breakthroughs to your favorite hobbies and interests – or even just make some silly jokes!  Let me know what's on your mind.\n",
      "\n",
      "\n",
      "\u001b[1m> Entering new ConversationChain chain...\u001b[0m\n",
      "Prompt after formatting:\n",
      "\u001b[32;1m\u001b[1;3mThe following is a friendly conversation between a human and an AI. The AI is talkative and provides lots of specific details from its context. If the AI does not know the answer to a question, it truthfully says it does not know.\n",
      "\n",
      "Current conversation:\n",
      "Human: hi myself viswaz\n",
      "AI: Hi Viswaz!  It's nice to meet you. How can I help you today?  Is there anything specific you'd like to talk about, or are you just looking for a friendly chat? I'm happy to discuss anything from current events and the latest scientific breakthroughs to your favorite hobbies and interests – or even just make some silly jokes!  Let me know what's on your mind.\n",
      "Human: what is my name ?\n",
      "AI:\u001b[0m\n",
      "\n",
      "\u001b[1m> Finished chain.\u001b[0m\n",
      "Bot: AI: Your name is Viswaz.  You told me that at the beginning of our conversation when you said, \"hi myself viswaz\".\n",
      "\n",
      "\n",
      "\u001b[1m> Entering new ConversationChain chain...\u001b[0m\n",
      "Prompt after formatting:\n",
      "\u001b[32;1m\u001b[1;3mThe following is a friendly conversation between a human and an AI. The AI is talkative and provides lots of specific details from its context. If the AI does not know the answer to a question, it truthfully says it does not know.\n",
      "\n",
      "Current conversation:\n",
      "Human: hi myself viswaz\n",
      "AI: Hi Viswaz!  It's nice to meet you. How can I help you today?  Is there anything specific you'd like to talk about, or are you just looking for a friendly chat? I'm happy to discuss anything from current events and the latest scientific breakthroughs to your favorite hobbies and interests – or even just make some silly jokes!  Let me know what's on your mind.\n",
      "Human: what is my name ?\n",
      "AI: AI: Your name is Viswaz.  You told me that at the beginning of our conversation when you said, \"hi myself viswaz\".\n",
      "Human: \n",
      "AI:\u001b[0m\n",
      "\n",
      "\u001b[1m> Finished chain.\u001b[0m\n",
      "Bot: AI:  Is there anything else I can help you with today, Viswaz?  Perhaps you'd like to discuss the weather, or maybe you have a question about a particular topic you're interested in? I'm eager to continue our conversation!\n",
      "\n",
      "\n",
      "\u001b[1m> Entering new ConversationChain chain...\u001b[0m\n",
      "Prompt after formatting:\n",
      "\u001b[32;1m\u001b[1;3mThe following is a friendly conversation between a human and an AI. The AI is talkative and provides lots of specific details from its context. If the AI does not know the answer to a question, it truthfully says it does not know.\n",
      "\n",
      "Current conversation:\n",
      "Human: hi myself viswaz\n",
      "AI: Hi Viswaz!  It's nice to meet you. How can I help you today?  Is there anything specific you'd like to talk about, or are you just looking for a friendly chat? I'm happy to discuss anything from current events and the latest scientific breakthroughs to your favorite hobbies and interests – or even just make some silly jokes!  Let me know what's on your mind.\n",
      "Human: what is my name ?\n",
      "AI: AI: Your name is Viswaz.  You told me that at the beginning of our conversation when you said, \"hi myself viswaz\".\n",
      "Human: \n",
      "AI: AI:  Is there anything else I can help you with today, Viswaz?  Perhaps you'd like to discuss the weather, or maybe you have a question about a particular topic you're interested in? I'm eager to continue our conversation!\n",
      "Human: vok vok\n",
      "AI:\u001b[0m\n",
      "\n",
      "\u001b[1m> Finished chain.\u001b[0m\n",
      "Bot: AI: I'm sorry, Viswaz, I don't understand what \"vok vok\" means.  Is it a word in another language?  A code?  Or perhaps just a sound you're making?  If you can tell me more about what you mean, I'll do my best to understand and respond appropriately.  Perhaps you could try rephrasing your statement, or asking a different question altogether. I'm here to chat and help in any way I can!\n",
      "\n",
      "\n",
      "\u001b[1m> Entering new ConversationChain chain...\u001b[0m\n",
      "Prompt after formatting:\n",
      "\u001b[32;1m\u001b[1;3mThe following is a friendly conversation between a human and an AI. The AI is talkative and provides lots of specific details from its context. If the AI does not know the answer to a question, it truthfully says it does not know.\n",
      "\n",
      "Current conversation:\n",
      "Human: hi myself viswaz\n",
      "AI: Hi Viswaz!  It's nice to meet you. How can I help you today?  Is there anything specific you'd like to talk about, or are you just looking for a friendly chat? I'm happy to discuss anything from current events and the latest scientific breakthroughs to your favorite hobbies and interests – or even just make some silly jokes!  Let me know what's on your mind.\n",
      "Human: what is my name ?\n",
      "AI: AI: Your name is Viswaz.  You told me that at the beginning of our conversation when you said, \"hi myself viswaz\".\n",
      "Human: \n",
      "AI: AI:  Is there anything else I can help you with today, Viswaz?  Perhaps you'd like to discuss the weather, or maybe you have a question about a particular topic you're interested in? I'm eager to continue our conversation!\n",
      "Human: vok vok\n",
      "AI: AI: I'm sorry, Viswaz, I don't understand what \"vok vok\" means.  Is it a word in another language?  A code?  Or perhaps just a sound you're making?  If you can tell me more about what you mean, I'll do my best to understand and respond appropriately.  Perhaps you could try rephrasing your statement, or asking a different question altogether. I'm here to chat and help in any way I can!\n",
      "Human: ok ok\n",
      "AI:\u001b[0m\n",
      "\n",
      "\u001b[1m> Finished chain.\u001b[0m\n",
      "Bot: AI: Okay!  Great to hear from you, Viswaz.  So, what shall we chat about now?  Are you interested in learning something new, discussing a current event, or just having a casual conversation? I have access to a vast amount of information and I'm always happy to share it, or simply listen and offer friendly companionship.  Let me know what you'd like to do next!\n"
     ]
    }
   ],
   "source": [
    "\n",
    "# Command-line chat loop\n",
    "while True:\n",
    "    user_input = input(\"You: \")\n",
    "    if user_input.lower() in [\"exit\", \"quit\"]:\n",
    "        break\n",
    "    response = chatbot.run(user_input)\n",
    "    print(\"Bot:\", response)\n"
   ]
  }
 ],
 "metadata": {
  "kernelspec": {
   "display_name": "Python 3",
   "language": "python",
   "name": "python3"
  },
  "language_info": {
   "codemirror_mode": {
    "name": "ipython",
    "version": 3
   },
   "file_extension": ".py",
   "mimetype": "text/x-python",
   "name": "python",
   "nbconvert_exporter": "python",
   "pygments_lexer": "ipython3",
   "version": "3.12.3"
  }
 },
 "nbformat": 4,
 "nbformat_minor": 5
}
