{
 "cells": [
  {
   "cell_type": "markdown",
   "id": "33f0760e",
   "metadata": {},
   "source": [
    "**Problem 2.3:** Basic RAG - Part 2: Vector Store & Retrieval  \n",
    "**Goal:** Embed document chunks and retrieve relevant ones based on a query.  \n",
    "**Task:**  \n",
    "1. Use the output chunks from **Problem 2.2**.  \n",
    "2. Create embeddings using a model (e.g., `OpenAIEmbeddings` or `HuggingFaceEmbeddings`).  \n",
    "3. Store the embeddings in a vector store (e.g., `FAISS` or `Chroma` in-memory).  \n",
    "4. Write a function that:  \n",
    "   - Takes a user query  \n",
    "   - Embeds the query  \n",
    "   - Retrieves the top 3 most relevant document chunks  \n",
    "   - Prints the retrieved chunks  \n",
    "**LangChain:** Use `OpenAIEmbeddings` or `HuggingFaceEmbeddings`, `FAISS.from_documents`, and `.as_retriever()`  \n",
    "**Check:**  \n",
    "- Is the vector store created without errors?  \n",
    "- When querying with a question that has an answer in the text, do the results make sense?  \n"
   ]
  },
  {
   "cell_type": "code",
   "execution_count": 1,
   "id": "a9971f19",
   "metadata": {},
   "outputs": [],
   "source": [
    "from dotenv import load_dotenv\n",
    "\n",
    "from langchain_core.messages import AIMessage, HumanMessage, SystemMessage, BaseMessage\n",
    "\n",
    "from typing import List,Optional, TypedDict, Sequence, Annotated, Any\n",
    "\n",
    "from langchain_google_genai import ChatGoogleGenerativeAI\n",
    "from langgraph.graph.message import add_messages\n",
    "\n",
    "from langgraph.graph import StateGraph,START,END"
   ]
  },
  {
   "cell_type": "code",
   "execution_count": 2,
   "id": "84585e34",
   "metadata": {},
   "outputs": [],
   "source": [
    "from langchain.document_loaders import TextLoader\n",
    "from langchain.text_splitter import RecursiveCharacterTextSplitter\n",
    "\n",
    "from langchain.vectorstores import FAISS\n",
    "from langchain.embeddings import HuggingFaceEmbeddings\n",
    "\n",
    "from langchain.embeddings import HuggingFaceBgeEmbeddings"
   ]
  },
  {
   "cell_type": "code",
   "execution_count": 3,
   "id": "1f8977d3",
   "metadata": {},
   "outputs": [
    {
     "data": {
      "text/plain": [
       "True"
      ]
     },
     "execution_count": 3,
     "metadata": {},
     "output_type": "execute_result"
    }
   ],
   "source": [
    "load_dotenv()"
   ]
  },
  {
   "cell_type": "code",
   "execution_count": 4,
   "id": "d3eb94dc",
   "metadata": {},
   "outputs": [],
   "source": [
    "## state definition\n",
    "\n",
    "class AgentState(TypedDict):\n",
    "    question : Optional[str]\n",
    "    doc_text : Optional[str]\n",
    "    doc_chunks: Optional[List[str]]\n",
    "    answer : Optional[str]\n",
    "    vector_store : Any"
   ]
  },
  {
   "cell_type": "code",
   "execution_count": 5,
   "id": "8dba0bf2",
   "metadata": {},
   "outputs": [
    {
     "name": "stderr",
     "output_type": "stream",
     "text": [
      "/tmp/ipykernel_972563/652412130.py:18: LangChainDeprecationWarning: The class `HuggingFaceEmbeddings` was deprecated in LangChain 0.2.2 and will be removed in 1.0. An updated version of the class exists in the :class:`~langchain-huggingface package and should be used instead. To use it run `pip install -U :class:`~langchain-huggingface` and import as `from :class:`~langchain_huggingface import HuggingFaceEmbeddings``.\n",
      "  embedding_model = HuggingFaceEmbeddings(\n",
      "/home/viswaz/.local/lib/python3.12/site-packages/tqdm/auto.py:21: TqdmWarning: IProgress not found. Please update jupyter and ipywidgets. See https://ipywidgets.readthedocs.io/en/stable/user_install.html\n",
      "  from .autonotebook import tqdm as notebook_tqdm\n"
     ]
    }
   ],
   "source": [
    "# ---- Model Binding ----\n",
    "llm = ChatGoogleGenerativeAI(\n",
    "    model=\"gemini-1.5-flash-latest\", temperature=0.7\n",
    ")\n",
    "\n",
    "# model_name = \"BAAI/bge-large-en-v1.5\"\n",
    "# model_kwargs = {'device': 'cpu'}\n",
    "# encode_kwargs = {'normalize_embeddings': True} # set True to compute cosine similarity\n",
    "# model = HuggingFaceBgeEmbeddings(\n",
    "#     model_name=model_name,\n",
    "#     model_kwargs=model_kwargs,\n",
    "#     encode_kwargs=encode_kwargs,\n",
    "#     query_instruction=\"Represent this sentence for searching relevant passages:\"\n",
    "# )\n",
    "\n",
    "\n",
    "# ---- Embedding Model ----\n",
    "embedding_model = HuggingFaceEmbeddings(\n",
    "    model_name=\"BAAI/bge-large-en-v1.5\",\n",
    "    model_kwargs={\"device\": \"cpu\"},\n",
    "    encode_kwargs={\"normalize_embeddings\": True},\n",
    ")"
   ]
  },
  {
   "cell_type": "code",
   "execution_count": 6,
   "id": "c4ae14d2",
   "metadata": {},
   "outputs": [],
   "source": [
    "def load_and_index(state: AgentState) -> AgentState:\n",
    "    \"\"\"\n",
    "       doc loader\n",
    "       and \n",
    "       chunker\n",
    "    \"\"\"\n",
    "    \n",
    "    loader = TextLoader(\"q.txt\")\n",
    "    documents = loader.load() \n",
    "\n",
    "\n",
    "\n",
    "    splitter = RecursiveCharacterTextSplitter(chunk_size = 500 , chunk_overlap = 50)\n",
    "    chunks = splitter.split_documents(documents=documents)\n",
    "    \n",
    "    \n",
    "    state[\"doc_chunks\"] = chunks\n",
    "    print(f\"🔹 Total chunks: {len(chunks)}\")\n",
    "    print(\"✅ Vector store created.\")\n",
    "    state[\"vector_store\"] = FAISS.from_documents(\n",
    "      documents=chunks,\n",
    "      embedding=embedding_model\n",
    "      )\n",
    "    \n",
    "    state[\"question\"] = input(\"->\")\n",
    "    return state"
   ]
  },
  {
   "cell_type": "code",
   "execution_count": 7,
   "id": "3616e07b",
   "metadata": {},
   "outputs": [],
   "source": [
    "def get_response(state: AgentState) -> AgentState:\n",
    "    \n",
    "    \"\"\"\n",
    "    Retrieves relevant chunks based on the user's query and uses Gemini to generate an answer.\n",
    "    \"\"\"\n",
    "\n",
    "    retriever = state[\"vector_store\"].as_retriever(\n",
    "    search_type=\"similarity\", \n",
    "    search_kwargs={\"k\": 3} \n",
    "    )\n",
    "\n",
    "    query = state[\"question\"] \n",
    "    docs = retriever.get_relevant_documents(query)\n",
    "\n",
    "\n",
    "    print(\"📄 Top 3 Relevant Chunks:\")\n",
    "    for i, doc in enumerate(docs):\n",
    "        print(f\"\\nChunk {i+1}:\\n{doc.page_content}\")\n",
    "    context = \"\\n\\n\".join([doc.page_content for doc in docs])\n",
    "    \n",
    "    sys_prompt = SystemMessage(content=\"You are an AI assistant that answers questions using the provided context in a clear and explanatory manner.\")\n",
    "    user_prompt = HumanMessage(\n",
    "        content=f\"Context:\\n{context}\\n\\nQuestion: {query}\"\n",
    "    )\n",
    "    response = llm.invoke([sys_prompt, user_prompt])\n",
    "\n",
    "    return {\"answer\" : response.content}"
   ]
  },
  {
   "cell_type": "code",
   "execution_count": 8,
   "id": "88cdc80a",
   "metadata": {},
   "outputs": [],
   "source": [
    "graph = StateGraph(AgentState)\n",
    "\n",
    "graph.add_node(\"prompt\", load_and_index)\n",
    "graph.add_node(\"resp\", get_response)\n",
    "\n",
    "graph.add_edge(START,\"prompt\")\n",
    "graph.add_edge(\"prompt\", \"resp\")\n",
    "graph.add_edge(\"resp\", END)\n",
    "\n",
    "app = graph.compile()"
   ]
  },
  {
   "cell_type": "code",
   "execution_count": 9,
   "id": "c0fb0b04",
   "metadata": {},
   "outputs": [
    {
     "data": {
      "image/png": "[encoded data removed]",
      "text/plain": [
       "<IPython.core.display.Image object>"
      ]
     },
     "metadata": {},
     "output_type": "display_data"
    }
   ],
   "source": [
    "from IPython.display import Image, display\n",
    "from io import BytesIO\n",
    "\n",
    "# Get image bytes directly from your graph generator\n",
    "image_bytes = app.get_graph().draw_mermaid_png()\n",
    "\n",
    "# Display the image without saving\n",
    "display(Image(data=image_bytes))\n"
   ]
  },
  {
   "cell_type": "code",
   "execution_count": 10,
   "id": "740a9eca",
   "metadata": {},
   "outputs": [
    {
     "name": "stdout",
     "output_type": "stream",
     "text": [
      "🔹 Total chunks: 207\n",
      "✅ Vector store created.\n"
     ]
    },
    {
     "name": "stderr",
     "output_type": "stream",
     "text": [
      "/tmp/ipykernel_972563/1938023155.py:13: LangChainDeprecationWarning: The method `BaseRetriever.get_relevant_documents` was deprecated in langchain-core 0.1.46 and will be removed in 1.0. Use :meth:`~invoke` instead.\n",
      "  docs = retriever.get_relevant_documents(query)\n"
     ]
    },
    {
     "name": "stdout",
     "output_type": "stream",
     "text": [
      "📄 Top 3 Relevant Chunks:\n",
      "\n",
      "Chunk 1:\n",
      "<<HEADING level=3>>5.4.1 General<<HEADING_END>>\n",
      "<<PARAGRAPH>>A welding procedure shall be reestablished as a new welding procedure specification and shall be completely\n",
      "requalified when any of the essential variables listed in 5.4.2 are changed. Changes other than those given in 5.4.2\n",
      "may be made in the procedure without the need for requalification, provided the welding procedure specification is\n",
      "revised to show the changes.<<PARAGRAPH_END>>\n",
      "\n",
      "Chunk 2:\n",
      "| \n",
      "<<PARAGRAPH>>A repair welder who has successfully completed the qualification test described in 10.4.3 shall be qualified within the\n",
      "limits of the essential variables described below. If any of the following essential variables are changed, the repair\n",
      "welder using a repair procedure shall be requalified:<<PARAGRAPH_END>>\n",
      "<<PARAGRAPH>>a) any change from one repair type to another, except when changing from a full thickness repair to any partial\n",
      "thickness repair;<<PARAGRAPH_END>>\n",
      "\n",
      "Chunk 3:\n",
      "the essential variables described below. If any of the following essential variables are changed, the welder shall be\n",
      "requalified using an applicable qualified procedure.<<PARAGRAPH_END>>\n",
      "<<PARAGRAPH>>a) A change from one welding process to another welding process or combination of processes, as follows:<<PARAGRAPH_END>>\n",
      "<<PARAGRAPH>>1) a change from one welding process to a different welding process; or<<PARAGRAPH_END>>\n",
      "According to the provided text from API Standard 1104, a welding procedure requires complete requalification as a new welding procedure specification if any of the essential variables listed in section 5.4.2 are changed.  The text doesn't explicitly define what constitutes an \"essential variable\" in 5.4.2, but it implies that these are factors which significantly impact the weld's quality and integrity.  Changing them necessitates a complete re-evaluation of the procedure's effectiveness to ensure continued safety and reliability.\n",
      "\n",
      "The provided excerpt gives examples of essential variables for repair welders (changes in repair type, except from full to partial thickness) and general welders (changes in welding process).  These are considered essential because the type of repair or welding process directly affects the final weld's properties and strength.  Therefore, altering them necessitates requalification to verify the new parameters still produce acceptable welds.\n"
     ]
    }
   ],
   "source": [
    "## run agent\n",
    "state = {\"question\" : \"\" ,\"doc_text\":\"\", \"answer\" : \"\"}\n",
    "result = app.invoke(state)\n",
    "print(result[\"answer\"])"
   ]
  }
 ],
 "metadata": {
  "kernelspec": {
   "display_name": "Python 3",
   "language": "python",
   "name": "python3"
  },
  "language_info": {
   "codemirror_mode": {
    "name": "ipython",
    "version": 3
   },
   "file_extension": ".py",
   "mimetype": "text/x-python",
   "name": "python",
   "nbconvert_exporter": "python",
   "pygments_lexer": "ipython3",
   "version": "3.12.3"
  }
 },
 "nbformat": 4,
 "nbformat_minor": 5
}
