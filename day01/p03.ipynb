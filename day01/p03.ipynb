{
 "cells": [
  {
   "cell_type": "markdown",
   "id": "4fd1acb4",
   "metadata": {},
   "source": [
    "**Goal:**  \n",
    "Problem 1.3: Prompt Templating\n",
    "Use a prompt template to structure your input to the LLM.\n",
    "\n",
    "**Task:**  \n",
    "1. Take two inputs:  \n",
    "   - A topic (e.g., \"machine learning\")  \n",
    "   - An audience (e.g., \"a 5-year-old\")  \n",
    "2. Use `ChatPromptTemplate` to create a prompt like:  \n",
    "   `\"Explain {topic} to {audience}.\"`  \n",
    "3. Format the prompt using `format_messages`.  \n",
    "4. Send it to the LLM and print the response.\n",
    "\n",
    "**LangChain Concepts:**  \n",
    "- ChatPromptTemplate  \n",
    "- from_template  \n",
    "- format_messages\n",
    "\n",
    "**Check:**  \n",
    "- Does the output match the topic and audience?  \n",
    "- Try different combinations of topics and audiences.\n"
   ]
  },
  {
   "cell_type": "code",
   "execution_count": 27,
   "id": "5f524634",
   "metadata": {},
   "outputs": [],
   "source": [
    "from dotenv import load_dotenv\n",
    "\n",
    "from langchain_core.messages import AIMessage, HumanMessage, SystemMessage, BaseMessage\n",
    "\n",
    "from typing import List,Optional, TypedDict, Sequence, Annotated\n",
    "\n",
    "from langchain.prompts import ChatPromptTemplate\n",
    "\n",
    "from langchain_google_genai import ChatGoogleGenerativeAI\n",
    "from langgraph.graph.message import add_messages\n",
    "\n",
    "from langgraph.graph import StateGraph,START,END"
   ]
  },
  {
   "cell_type": "code",
   "execution_count": 28,
   "id": "41634fc0",
   "metadata": {},
   "outputs": [
    {
     "data": {
      "text/plain": [
       "True"
      ]
     },
     "execution_count": 28,
     "metadata": {},
     "output_type": "execute_result"
    }
   ],
   "source": [
    "load_dotenv()"
   ]
  },
  {
   "cell_type": "code",
   "execution_count": 29,
   "id": "16034e0f",
   "metadata": {},
   "outputs": [],
   "source": [
    "## state definition\n",
    "\n",
    "class AgentState(TypedDict):\n",
    "    question : str\n",
    "    answer : str"
   ]
  },
  {
   "cell_type": "code",
   "execution_count": 30,
   "id": "c8e08c99",
   "metadata": {},
   "outputs": [],
   "source": [
    "# ---- Model Binding ----\n",
    "llm = ChatGoogleGenerativeAI(\n",
    "    model=\"gemini-1.5-flash-latest\", temperature=0.7\n",
    ")\n"
   ]
  },
  {
   "cell_type": "code",
   "execution_count": 31,
   "id": "24b89440",
   "metadata": {},
   "outputs": [],
   "source": [
    "def user_query(state: AgentState) -> AgentState:\n",
    "    \"\"\"\n",
    "        takes input from user and stores it in respective attribute\n",
    "    \"\"\"\n",
    "    # Create a prompt with both System and Human messages\n",
    "    template = ChatPromptTemplate.from_messages([\n",
    "        (\"system\", \"You are a friendly and simple explainer who adjusts answers for any audience.\"),\n",
    "        (\"human\", \"Explain {topic} to {audience}.\")\n",
    "    ])\n",
    "    topic = input(\"topic ->\") \n",
    "    role = input(\"role ->\") \n",
    "    # state[\"question\"] = query_1\n",
    "    # query = HumanMessage(content=query_1)\n",
    "    # print(query)\n",
    "    \n",
    "    # state[\"question\"] = query_1\n",
    "    # print(state)\n",
    "    messages = template.format_messages(topic=topic, audience=role)\n",
    "\n",
    "    return {\"question\":messages}"
   ]
  },
  {
   "cell_type": "code",
   "execution_count": 32,
   "id": "349a83ca",
   "metadata": {},
   "outputs": [],
   "source": [
    "def get_response(state: AgentState) -> AgentState:\n",
    "    \n",
    "    \"\"\"\n",
    "        prompt our llm with the question and get a response.\n",
    "    \"\"\"\n",
    "    # invoke , stream , batch\n",
    "    # invoke - input - output\n",
    "    # stream - cont inp - out \n",
    "    # batch send a batch and paralelize them \n",
    "    # sys_prompt = SystemMessage(content=\"you are a ai assistant that answers questions in a clear and explanatory way\")\n",
    "    # prompt = HumanMessage(content=state['question'])\n",
    "    response = llm.invoke(state['question'])\n",
    "    \n",
    "    # print(response.type)\n",
    "    # print(prompt.type)\n",
    "    return {\"answer\" : response.content}"
   ]
  },
  {
   "cell_type": "code",
   "execution_count": 33,
   "id": "684bdc3e",
   "metadata": {},
   "outputs": [],
   "source": [
    "graph = StateGraph(AgentState)\n",
    "\n",
    "graph.add_node(\"prompt\", user_query)\n",
    "graph.add_node(\"resp\", get_response)\n",
    "\n",
    "graph.add_edge(START,\"prompt\")\n",
    "graph.add_edge(\"prompt\", \"resp\")\n",
    "graph.add_edge(\"resp\", END)\n",
    "\n",
    "app = graph.compile()"
   ]
  },
  {
   "cell_type": "code",
   "execution_count": 34,
   "id": "47ecaa4c",
   "metadata": {},
   "outputs": [
    {
     "data": {
      "image/png": "[encoded data removed]",
      "text/plain": [
       "<IPython.core.display.Image object>"
      ]
     },
     "metadata": {},
     "output_type": "display_data"
    }
   ],
   "source": [
    "from IPython.display import Image, display\n",
    "from io import BytesIO\n",
    "\n",
    "# Get image bytes directly from your graph generator\n",
    "image_bytes = app.get_graph().draw_mermaid_png()\n",
    "\n",
    "# Display the image without saving\n",
    "display(Image(data=image_bytes))\n"
   ]
  },
  {
   "cell_type": "code",
   "execution_count": 35,
   "id": "b235cd94",
   "metadata": {},
   "outputs": [
    {
     "name": "stdout",
     "output_type": "stream",
     "text": [
      "Imagine you have a really cool triangle!  It's a special triangle called a right triangle, because it has one pointy corner that's like a perfect square corner.\n",
      "\n",
      "Now, imagine you build squares on each of the triangle's sides.  You'll have three squares, one on each side.\n",
      "\n",
      "The Pythagoras Theorem is a secret about these squares! It says that if you add up the areas of the *two smaller* squares (the ones on the shorter sides of the triangle), it will *always* equal the area of the *biggest* square (the one on the longest side).\n",
      "\n",
      "It's like magic!  The areas of the squares are always related in this special way for right triangles.\n"
     ]
    }
   ],
   "source": [
    "## run agent\n",
    "state = {\"question\" : \"\" , \"answer\" : \"\"}\n",
    "result = app.invoke(state)\n",
    "print(result[\"answer\"])"
   ]
  }
 ],
 "metadata": {
  "kernelspec": {
   "display_name": "Python 3",
   "language": "python",
   "name": "python3"
  },
  "language_info": {
   "codemirror_mode": {
    "name": "ipython",
    "version": 3
   },
   "file_extension": ".py",
   "mimetype": "text/x-python",
   "name": "python",
   "nbconvert_exporter": "python",
   "pygments_lexer": "ipython3",
   "version": "3.12.3"
  }
 },
 "nbformat": 4,
 "nbformat_minor": 5
}
