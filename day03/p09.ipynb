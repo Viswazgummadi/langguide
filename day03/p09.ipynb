{
 "cells": [
  {
   "cell_type": "markdown",
   "id": "33f0760e",
   "metadata": {},
   "source": [
    "**Problem 3.2: Basic LangChain Agent with Tools**  \n",
    "**Goal:** Create an agent that can use a simple tool.\n",
    "\n",
    "**Task:**  \n",
    "- Create a custom LangChain Tool to calculate the square of a number.  \n",
    "- Name and describe the tool clearly.  \n",
    "- Initialize an agent (e.g., `create_openai_functions_agent` or `create_react_agent`) with:  \n",
    "  - an LLM  \n",
    "  - your custom tool  \n",
    "- Create an `AgentExecutor` for the agent.  \n",
    "- Ask questions like:  \n",
    "  - \"What is the square of 5?\"  \n",
    "  - \"If I have 7 apples and multiply that by itself, how many do I have?\"\n",
    "\n",
    "**LangChain Concepts:**  \n",
    "`@tool` or `Tool`, `create_openai_functions_agent`, `AgentExecutor`, agent prompting\n",
    "\n",
    "**Verification:**  \n",
    "- Does the agent correctly identify when to use the tool?  \n",
    "- Does it return the correct squared number?  \n",
    "- If ReAct agent is used, observe its \"thought\" steps.\n"
   ]
  },
  {
   "cell_type": "code",
   "execution_count": 13,
   "id": "a9971f19",
   "metadata": {},
   "outputs": [],
   "source": [
    "from dotenv import load_dotenv\n",
    "\n",
    "from langchain_core.messages import AIMessage, HumanMessage, SystemMessage, BaseMessage\n",
    "\n",
    "from typing import List,Optional, TypedDict, Sequence, Annotated, Any\n",
    "\n",
    "from langchain_google_genai import ChatGoogleGenerativeAI\n",
    "from langgraph.graph.message import add_messages\n",
    "\n",
    "from langgraph.graph import StateGraph,START,END"
   ]
  },
  {
   "cell_type": "code",
   "execution_count": 14,
   "id": "84585e34",
   "metadata": {},
   "outputs": [],
   "source": [
    "from langchain.document_loaders import TextLoader\n",
    "from langchain.text_splitter import RecursiveCharacterTextSplitter\n",
    "\n",
    "from langchain.vectorstores import FAISS\n",
    "from langchain.embeddings import HuggingFaceEmbeddings\n",
    "\n",
    "from langchain.embeddings import HuggingFaceBgeEmbeddings"
   ]
  },
  {
   "cell_type": "code",
   "execution_count": 15,
   "id": "1f8977d3",
   "metadata": {},
   "outputs": [
    {
     "data": {
      "text/plain": [
       "True"
      ]
     },
     "execution_count": 15,
     "metadata": {},
     "output_type": "execute_result"
    }
   ],
   "source": [
    "load_dotenv()"
   ]
  },
  {
   "cell_type": "code",
   "execution_count": 16,
   "id": "d3eb94dc",
   "metadata": {},
   "outputs": [],
   "source": [
    "## state definition\n",
    "\n",
    "class AgentState(TypedDict):\n",
    "    message : Optional[List[str]]\n",
    "    classification : str"
   ]
  },
  {
   "cell_type": "code",
   "execution_count": 17,
   "id": "8dba0bf2",
   "metadata": {},
   "outputs": [],
   "source": [
    "# ---- Model Binding ----\n",
    "llm = ChatGoogleGenerativeAI(\n",
    "    model=\"gemini-1.5-flash-latest\", temperature=0.7\n",
    ")"
   ]
  },
  {
   "cell_type": "code",
   "execution_count": 18,
   "id": "c4ae14d2",
   "metadata": {},
   "outputs": [],
   "source": [
    "def classify_intent(state: AgentState) -> AgentState:\n",
    "    \"\"\"\n",
    "        divides this into a classifier\n",
    "    \"\"\"\n",
    "    sys_prompt = SystemMessage(content=\"you are a classifier based on the context classify these into one of the classes ['greeting' ,'question' , 'other'] \")\n",
    "    \n",
    "    msg = input(\"enter prompt: \")\n",
    "    state[\"message\"] = msg\n",
    "    prompt = HumanMessage(content=msg)\n",
    "    \n",
    "    resp = llm.invoke([sys_prompt , prompt])\n",
    "    state[\"classification\"] = resp.content\n",
    "    print(resp.content)\n",
    "    return state"
   ]
  },
  {
   "cell_type": "code",
   "execution_count": 19,
   "id": "8a779fb3",
   "metadata": {},
   "outputs": [],
   "source": [
    "def route(state: AgentState) -> str:\n",
    "    return state[\"classification\"]\n"
   ]
  },
  {
   "cell_type": "code",
   "execution_count": 20,
   "id": "3616e07b",
   "metadata": {},
   "outputs": [],
   "source": [
    "def handle_greeting(state: AgentState) -> AgentState:\n",
    "\n",
    "    \"\"\"\n",
    "        respond as a greeter\n",
    "    \"\"\"\n",
    "    sys_prompt = SystemMessage(content=\"you are a greeter, politely greet the user based on his context \")\n",
    "    \n",
    "    msg = state[\"message\"]\n",
    "    prompt = HumanMessage(content=msg)\n",
    "    \n",
    "    resp = llm.invoke([sys_prompt , prompt])\n",
    "    print(resp.content)\n",
    "    return state"
   ]
  },
  {
   "cell_type": "code",
   "execution_count": 21,
   "id": "a760ac51",
   "metadata": {},
   "outputs": [],
   "source": [
    "def handle_question(state: AgentState) -> AgentState:\n",
    "\n",
    "    \"\"\"\n",
    "        respond as a q/a bot\n",
    "    \"\"\"\n",
    "    sys_prompt = SystemMessage(content=\"you are a question answering chat bot. answer the user question clearly and precisely no hallucinations\")\n",
    "    \n",
    "    msg = state[\"message\"]\n",
    "    prompt = HumanMessage(content=msg)\n",
    "    \n",
    "    resp = llm.invoke([sys_prompt , prompt])\n",
    "    print(resp.content)\n",
    "    return state"
   ]
  },
  {
   "cell_type": "code",
   "execution_count": 22,
   "id": "88cdc80a",
   "metadata": {},
   "outputs": [],
   "source": [
    "graph = StateGraph(AgentState)\n",
    "\n",
    "graph.add_node(\"classifier\", classify_intent)\n",
    "graph.add_node(\"q\", handle_question)\n",
    "graph.add_node(\"g\", handle_greeting)\n",
    "\n",
    "graph.add_conditional_edges(\n",
    "    \"classifier\",\n",
    "    route,\n",
    "    {\n",
    "        \"greeting\": \"g\",\n",
    "        \"question\": \"q\",\n",
    "        \"other\": END\n",
    "    }\n",
    ")\n",
    "\n",
    "graph.add_edge(START,\"classifier\")\n",
    "graph.add_edge(\"q\", END)\n",
    "graph.add_edge(\"g\", END)\n",
    "\n",
    "app = graph.compile()"
   ]
  },
  {
   "cell_type": "code",
   "execution_count": 23,
   "id": "c0fb0b04",
   "metadata": {},
   "outputs": [
    {
     "data": {
      "image/png": "[encoded data removed]",
      "text/plain": [
       "<IPython.core.display.Image object>"
      ]
     },
     "metadata": {},
     "output_type": "display_data"
    }
   ],
   "source": [
    "from IPython.display import Image, display\n",
    "from io import BytesIO\n",
    "\n",
    "# Get image bytes directly from your graph generator\n",
    "image_bytes = app.get_graph().draw_mermaid_png()\n",
    "\n",
    "# Display the image without saving\n",
    "display(Image(data=image_bytes))\n"
   ]
  },
  {
   "cell_type": "code",
   "execution_count": 24,
   "id": "740a9eca",
   "metadata": {},
   "outputs": [
    {
     "name": "stdout",
     "output_type": "stream",
     "text": [
      "greeting\n",
      "Hi there! I'm doing well, thank you for asking. How can I help you today?\n"
     ]
    }
   ],
   "source": [
    "## run agent\n",
    "state = {\n",
    "    \"message\" : [],\n",
    "    \"classification\" : \"\"\n",
    "}\n",
    "result = app.invoke(state)\n",
    "# print(result[\"classification\"])"
   ]
  }
 ],
 "metadata": {
  "kernelspec": {
   "display_name": "Python 3",
   "language": "python",
   "name": "python3"
  },
  "language_info": {
   "codemirror_mode": {
    "name": "ipython",
    "version": 3
   },
   "file_extension": ".py",
   "mimetype": "text/x-python",
   "name": "python",
   "nbconvert_exporter": "python",
   "pygments_lexer": "ipython3",
   "version": "3.12.3"
  }
 },
 "nbformat": 4,
 "nbformat_minor": 5
}
